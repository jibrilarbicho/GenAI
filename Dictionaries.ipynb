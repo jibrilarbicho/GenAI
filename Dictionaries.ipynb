{
 "cells": [
  {
   "cell_type": "code",
   "execution_count": 2,
   "metadata": {},
   "outputs": [
    {
     "name": "stdout",
     "output_type": "stream",
     "text": [
      "['math', 'compsci']\n",
      "Not Available\n"
     ]
    }
   ],
   "source": [
    "student={\"name\":\"jack\",\"age\":18,\"courses\":[\"math\",\"compsci\"]}\n",
    "print(student.get(\"courses\"))\n",
    "print(student.get(\"grades\",\"Not Available\"))"
   ]
  },
  {
   "cell_type": "code",
   "execution_count": 3,
   "metadata": {},
   "outputs": [
    {
     "name": "stdout",
     "output_type": "stream",
     "text": [
      "dict_keys(['name', 'age', 'courses'])\n",
      "dict_values(['jack', 18, ['math', 'compsci']])\n"
     ]
    }
   ],
   "source": [
    "print(student.keys())\n",
    "print(student.values())"
   ]
  },
  {
   "cell_type": "code",
   "execution_count": 10,
   "metadata": {},
   "outputs": [
    {
     "name": "stdout",
     "output_type": "stream",
     "text": [
      "{'name': 'jill', 'age': 18, 'courses': ['math', 'compsci']}\n",
      "dict_items([('name', 'jill'), ('age', 18), ('courses', ['math', 'compsci'])])\n"
     ]
    }
   ],
   "source": [
    "print(student)\n",
    "print(student.items()) # to Access key value pair in the form of tuples"
   ]
  },
  {
   "cell_type": "code",
   "execution_count": null,
   "metadata": {},
   "outputs": [],
   "source": []
  },
  {
   "cell_type": "code",
   "execution_count": 8,
   "metadata": {},
   "outputs": [],
   "source": [
    "#shallow Copy\n",
    "student_copy1=student.copy() #this shallow copy to ignore updation in student_copy1 when stundet  is updated"
   ]
  },
  {
   "cell_type": "code",
   "execution_count": 9,
   "metadata": {},
   "outputs": [
    {
     "name": "stdout",
     "output_type": "stream",
     "text": [
      "{'name': 'jill', 'age': 18, 'courses': ['math', 'compsci']}\n",
      "{'name': 'jack', 'age': 18, 'courses': ['math', 'compsci']}\n"
     ]
    }
   ],
   "source": [
    "student[\"name\"]=\"jill\"\n",
    "print(student)\n",
    "print(student_copy1)"
   ]
  },
  {
   "cell_type": "code",
   "execution_count": 12,
   "metadata": {},
   "outputs": [
    {
     "name": "stdout",
     "output_type": "stream",
     "text": [
      "{0: 0, 1: 1, 2: 4, 3: 9, 4: 16}\n"
     ]
    }
   ],
   "source": [
    "#dictionary Comphrehension\n",
    "squares={x:x**2 for x in range(5) }\n",
    "print(squares)"
   ]
  },
  {
   "cell_type": "code",
   "execution_count": 13,
   "metadata": {},
   "outputs": [
    {
     "name": "stdout",
     "output_type": "stream",
     "text": [
      "{0: 0, 2: 4, 4: 16, 6: 36, 8: 64}\n"
     ]
    }
   ],
   "source": [
    "#Conditional dictionary Comphrehension\n",
    "evens={x:x**2 for x in range(10) if x%2 == 0}\n",
    "print(evens)"
   ]
  },
  {
   "cell_type": "code",
   "execution_count": 14,
   "metadata": {},
   "outputs": [
    {
     "name": "stdout",
     "output_type": "stream",
     "text": [
      "{1: 2, 2: 2, 3: 2, 4: 2, 5: 2, 6: 2, 7: 1, 8: 1, 9: 1, 10: 1}\n"
     ]
    }
   ],
   "source": [
    "numbers=[1,2,2,1,3,3,4,5,6,4,6,7,8,5,9,10]\n",
    "frequency={}\n",
    "for number in numbers:\n",
    "    if number in frequency:\n",
    "        frequency[number]+=1\n",
    "    else:\n",
    "        frequency[number]=1\n",
    "print(frequency)"
   ]
  }
 ],
 "metadata": {
  "kernelspec": {
   "display_name": "genAi",
   "language": "python",
   "name": "python3"
  },
  "language_info": {
   "codemirror_mode": {
    "name": "ipython",
    "version": 3
   },
   "file_extension": ".py",
   "mimetype": "text/x-python",
   "name": "python",
   "nbconvert_exporter": "python",
   "pygments_lexer": "ipython3",
   "version": "3.11.10"
  }
 },
 "nbformat": 4,
 "nbformat_minor": 2
}
